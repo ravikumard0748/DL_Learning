{
 "cells": [
  {
   "cell_type": "code",
   "execution_count": 10,
   "id": "c92ac335",
   "metadata": {},
   "outputs": [],
   "source": [
    "import tensorflow as tf"
   ]
  },
  {
   "cell_type": "code",
   "execution_count": 13,
   "id": "8372f84a",
   "metadata": {},
   "outputs": [],
   "source": [
    "from tensorflow.keras.preprocessing.image import ImageDataGenerator,array_to_img,img_to_array,load_img\n",
    "\n"
   ]
  },
  {
   "cell_type": "code",
   "execution_count": 17,
   "id": "6fd9b5f2",
   "metadata": {},
   "outputs": [],
   "source": [
    "datagen=ImageDataGenerator(\n",
    "    vertical_flip=True,\n",
    "    rotation_range= 45,\n",
    "    width_shift_range = 30,\n",
    "    height_shift_range = 40,\n",
    "    horizontal_flip = True,\n",
    "    zoom_range = 0.2,\n",
    "    fill_mode = 'nearest',\n",
    "    shear_range = 0.2\n",
    "    \n",
    ")"
   ]
  },
  {
   "cell_type": "code",
   "execution_count": 18,
   "id": "a8b58ab4",
   "metadata": {},
   "outputs": [],
   "source": [
    "img = load_img(\"input/botuboi.jpg\")\n",
    "img = img_to_array(img)\n"
   ]
  },
  {
   "cell_type": "code",
   "execution_count": 22,
   "id": "ae0151bb",
   "metadata": {},
   "outputs": [],
   "source": [
    "x=img.reshape((1,)+img.shape)"
   ]
  },
  {
   "cell_type": "code",
   "execution_count": 24,
   "id": "9ab1a8ac",
   "metadata": {},
   "outputs": [],
   "source": [
    "i = 0\n",
    "for batch in datagen.flow(x,batch_size = 1,save_to_dir=\"output\",save_format = \"jpg\",save_prefix = \"baduu\"):\n",
    "    i+= 1\n",
    "    if i > 10:\n",
    "        break\n",
    "    \n",
    "    "
   ]
  },
  {
   "cell_type": "code",
   "execution_count": null,
   "id": "a8763658",
   "metadata": {},
   "outputs": [],
   "source": []
  },
  {
   "cell_type": "code",
   "execution_count": null,
   "id": "f19a4d7f",
   "metadata": {},
   "outputs": [],
   "source": []
  }
 ],
 "metadata": {
  "kernelspec": {
   "display_name": "Python 3",
   "language": "python",
   "name": "python3"
  },
  "language_info": {
   "codemirror_mode": {
    "name": "ipython",
    "version": 3
   },
   "file_extension": ".py",
   "mimetype": "text/x-python",
   "name": "python",
   "nbconvert_exporter": "python",
   "pygments_lexer": "ipython3",
   "version": "3.12.3"
  }
 },
 "nbformat": 4,
 "nbformat_minor": 5
}
